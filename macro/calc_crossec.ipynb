{
 "cells": [
  {
   "cell_type": "code",
   "execution_count": 1,
   "id": "a95ae3e4-53ca-4ce6-ac75-9052045afff5",
   "metadata": {},
   "outputs": [
    {
     "name": "stdout",
     "output_type": "stream",
     "text": [
      "Welcome to JupyROOT 6.28/06\n"
     ]
    }
   ],
   "source": [
    "import pycuba as cb \n",
    "import numpy as np\n",
    "import math\n",
    "import lhapdf\n",
    "import ROOT\n",
    "\n",
    "%jsroot on"
   ]
  },
  {
   "cell_type": "code",
   "execution_count": 6,
   "id": "0c90f17c-b811-4331-95e3-ebdef610b7e5",
   "metadata": {},
   "outputs": [
    {
     "name": "stdout",
     "output_type": "stream",
     "text": [
      "35.6627094422176\n",
      "-5\n",
      "-4\n",
      "-3\n",
      "-2\n",
      "-1\n",
      "1\n",
      "2\n",
      "3\n",
      "4\n",
      "5\n",
      "21\n",
      "LHAPDF 6.5.4 loading /home/pashax/Programs/LHAPDF-6.5.4/install/share/LHAPDF/NNPDF31_lo_as_0118/NNPDF31_lo_as_0118_0000.dat\n",
      "NNPDF31_lo_as_0118 PDF set, member #0, version 1; LHAPDF ID = 315000\n"
     ]
    }
   ],
   "source": []
  },
  {
   "cell_type": "code",
   "execution_count": 2,
   "id": "b12d4664-a95c-458d-bdcb-ec52932fa686",
   "metadata": {},
   "outputs": [
    {
     "data": {
      "text/plain": [
       "-0.012217304763960308"
      ]
     },
     "execution_count": 2,
     "metadata": {},
     "output_type": "execute_result"
    }
   ],
   "source": [
    "pi = ROOT.TMath.Pi()\n",
    "\n",
    "\n",
    "def get_partonic_cs(s, t, u, alphas, flav1, flav2):\n",
    "    result = 0.\n",
    "    # dOmega -> dt\n",
    "    J = 4*pi/s\n",
    "    process_type = 0\n",
    "    if abs(flav1) == abs(flav2) and (flav1 != 21 and flav2 != 21):\n",
    "        process_type = 1 # qq / qbarqbar\n",
    "        if flav1*flav2 < 0: # qqbar\n",
    "            process_type = 2 \n",
    "    elif abs(flav1) != abs(flav2) and (flav1 != 21 and flav2 != 21):\n",
    "        process_type = 3 # non gluonic different flavour\n",
    "        if flav1*flav2 < 0:\n",
    "            process_type = 0 # qqbar'\n",
    "    elif flav1 == 21 or flav2 == 21:\n",
    "        process_type = 4 # halfgluonic\n",
    "        if flav1 == 21 and flav2 == 21:\n",
    "            process_type = 5 # gg\n",
    "\n",
    "    #  no qqbar' interaction\n",
    "    if process_type == 0: \n",
    "        return result\n",
    "\n",
    "    if process_type == 1:\n",
    "        # 51.7\n",
    "        result += J*(alphas**2/9*s) * ((t**2+s**2)/(u**2) + (s**2+u**2)/(t**2) - (2*s**2)/(3*u*t))\n",
    "    elif process_type == 2:\n",
    "        # 51.4\n",
    "        result += J*(alphas**2/9*s) * ((t**2+u**2)/(s**2))\n",
    "        # 51.6\n",
    "        result += J*(alphas**2/9*s) * ((t**2+u**2)/(s**2) + (s**2+u**2)/(t**2) - (2*u**2)/(3*s*t))\n",
    "        # 51.9\n",
    "        result += J*(8*alphas**2/27*s) * (t**2+u**2)* (1/(t*u) - 9/(4*s**2))\n",
    "    elif process_type == 3:\n",
    "        # 51.5\n",
    "        result += J*(alphas**2/9*s) * ((s**2+u**2)/(t**2))\n",
    "    elif process_type == 4:\n",
    "        # 51.10\n",
    "        result += J*(alphas**2/9*s) * (s**2+u**2)* (-1/(s*u) + 9/(4*t**2))\n",
    "    elif process_type == 5:\n",
    "        # 51.11\n",
    "        result += J*(alphas**2/24*s) * (t**2+u**2)* (1/(t*u) - 9/(4*s**2))\n",
    "        # 51.12\n",
    "        result += J*(9*alphas**2/8*s) * (3 - u*t/(s**2) - s*u/(t**2) - s*t/(u**2))\n",
    "    else:\n",
    "        return result\n",
    "\n",
    "    return result\n",
    "\n"
   ]
  },
  {
   "cell_type": "code",
   "execution_count": 6,
   "id": "a876947c-e543-443e-a19f-8e9b7135dd22",
   "metadata": {},
   "outputs": [
    {
     "name": "stdout",
     "output_type": "stream",
     "text": [
      "LHAPDF 6.5.4 loading /home/pashax/Programs/LHAPDF-6.5.4/install/share/LHAPDF/NNPDF31_lo_as_0118/NNPDF31_lo_as_0118_0000.dat\n",
      "NNPDF31_lo_as_0118 PDF set, member #0, version 1; LHAPDF ID = 315000\n",
      "\n",
      "Iteration 1:  1000 integrand evaluations so far\n",
      "[1] 1 +- 3.71222e-09  \tchisq 0 (0 df)\n"
     ]
    }
   ],
   "source": [
    "## Getting a PDF member object\n",
    "p = lhapdf.mkPDF(\"NNPDF31_lo_as_0118\", 0)\n",
    "## Gluon PDF querying at x=0.001, Q2=10000\n",
    "#print(p.xfxQ2(21, 1e-3, 1e4))\n",
    "\n",
    "s = 7000 # GeV\n",
    "\n",
    "# define grid for pT and Delta y\n",
    "# pTmin = 25\n",
    "\n",
    "pts = np.arange(25, 100, 2)\n",
    "del_y = np.arange(0, 20, 1)\n",
    "\n",
    "def Integrand(ndim, xx, ncomp, ff, userdata):\n",
    "    # access the current parameters\n",
    "    dy,ybar = [xx[i] for i in range(ndim.contents.value)]\n",
    "    # set the scale \n",
    "    pt = userdata\n",
    "    # compute the result\n",
    "    # define ranges and scale variables\n",
    "    a1 = 0.\n",
    "    b1 = 2.\n",
    "    a2 = 0.\n",
    "    b2 = 2.\n",
    "    \n",
    "    newdy = a1 + (b1-a1)*dy\n",
    "    newybar = a2 + (b2-a2)*ybar\n",
    "\n",
    "    result = 1\n",
    "    #result = math.sin(newx)*math.sin(newy)*(b1-a1)*(b2-a2)\n",
    "    # store the result (here only one component)\n",
    "    ff[0] = result\n",
    "    return 0\n",
    "\n",
    "xx = [0., 0.]\n",
    "ff = [0.]\n",
    "NDIM = 2\n",
    "NNEW = 1000\n",
    "FLATNESS = 50.\n",
    "\n",
    "data = 1\n",
    "\n",
    "result = cb.Suave(Integrand, NDIM, NNEW, verbose=1, userdata=30)\n"
   ]
  },
  {
   "cell_type": "code",
   "execution_count": null,
   "id": "cc786a1c-3ad2-47d0-b33d-5bad35deb52d",
   "metadata": {},
   "outputs": [],
   "source": []
  }
 ],
 "metadata": {
  "kernelspec": {
   "display_name": "Python 3 (ipykernel)",
   "language": "python",
   "name": "python3"
  },
  "language_info": {
   "codemirror_mode": {
    "name": "ipython",
    "version": 3
   },
   "file_extension": ".py",
   "mimetype": "text/x-python",
   "name": "python",
   "nbconvert_exporter": "python",
   "pygments_lexer": "ipython3",
   "version": "3.10.12"
  }
 },
 "nbformat": 4,
 "nbformat_minor": 5
}
