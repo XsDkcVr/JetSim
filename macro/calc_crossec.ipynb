{
 "cells": [
  {
   "cell_type": "code",
   "execution_count": 2,
   "id": "a95ae3e4-53ca-4ce6-ac75-9052045afff5",
   "metadata": {},
   "outputs": [
    {
     "name": "stdout",
     "output_type": "stream",
     "text": [
      "Welcome to JupyROOT 6.28/06\n"
     ]
    }
   ],
   "source": [
    "import pycuba as cb \n",
    "import numpy as np\n",
    "import math\n",
    "import lhapdf\n",
    "import ROOT\n",
    "%jsroot on"
   ]
  },
  {
   "cell_type": "code",
   "execution_count": 15,
   "id": "a876947c-e543-443e-a19f-8e9b7135dd22",
   "metadata": {},
   "outputs": [
    {
     "name": "stdout",
     "output_type": "stream",
     "text": [
      "\n",
      "Iteration 1:  10000 integrand evaluations so far\n",
      "[1] 0.21126 +- 0.00172315  \tchisq 0 (0 df)\n",
      "\n",
      "Iteration 2:  20000 integrand evaluations so far\n",
      "[1] 0.211342 +- 0.000529877  \tchisq 0.0047196 (2 df)\n",
      "\n",
      "Iteration 3:  30000 integrand evaluations so far\n",
      "[1] 0.21133 +- 0.000287663  \tchisq 0.161085 (5 df)\n",
      "\n",
      "Iteration 4:  40000 integrand evaluations so far\n",
      "[1] 0.211324 +- 0.000117917  \tchisq 0.180417 (8 df)\n"
     ]
    }
   ],
   "source": [
    "\n",
    "pts = [1,2,3,4,5]\n",
    "\n",
    "def Integrand(ndim, xx, ncomp, ff, userdata):\n",
    "    # access the current parameters\n",
    "    x,y = [xx[i] for i in range(ndim.contents.value)]\n",
    "    parameter = userdata\n",
    "    # compute the result\n",
    "    # define ranges and scale variables\n",
    "    a1 = 0.\n",
    "    b1 = 1.\n",
    "    a2 = 0.\n",
    "    b2 = 1.\n",
    "    newx = a1 + (b1-a1)*x\n",
    "    newy = a2 + (b2-a2)*y\n",
    "    \n",
    "    result = math.sin(x)*math.sin(y)*(b1-a1)*(b2-a2)\n",
    "    # store the result (here only one component)\n",
    "    ff[0] = result\n",
    "    return 0\n",
    "\n",
    "NDIM = 2\n",
    "NNEW = 10000\n",
    "FLATNESS = 50.\n",
    "\n",
    "result = cb.Suave(Integrand, NDIM, NNEW, verbose=1)\n"
   ]
  },
  {
   "cell_type": "code",
   "execution_count": null,
   "id": "0c90f17c-b811-4331-95e3-ebdef610b7e5",
   "metadata": {},
   "outputs": [],
   "source": []
  },
  {
   "cell_type": "code",
   "execution_count": null,
   "id": "b12d4664-a95c-458d-bdcb-ec52932fa686",
   "metadata": {},
   "outputs": [],
   "source": []
  }
 ],
 "metadata": {
  "kernelspec": {
   "display_name": "Python 3 (ipykernel)",
   "language": "python",
   "name": "python3"
  },
  "language_info": {
   "codemirror_mode": {
    "name": "ipython",
    "version": 3
   },
   "file_extension": ".py",
   "mimetype": "text/x-python",
   "name": "python",
   "nbconvert_exporter": "python",
   "pygments_lexer": "ipython3",
   "version": "3.10.12"
  }
 },
 "nbformat": 4,
 "nbformat_minor": 5
}
