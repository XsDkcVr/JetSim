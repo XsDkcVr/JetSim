{
 "cells": [
  {
   "cell_type": "code",
   "execution_count": 2,
   "id": "2f04517d-4cdf-4667-a564-51971d2ddb58",
   "metadata": {},
   "outputs": [
    {
     "name": "stdout",
     "output_type": "stream",
     "text": [
      "Welcome to JupyROOT 6.28/06\n"
     ]
    }
   ],
   "source": [
    "import ROOT as rt\n",
    "import math\n",
    "from array import array\n",
    "\n",
    "%jsroot on"
   ]
  },
  {
   "cell_type": "code",
   "execution_count": 3,
   "id": "6cf62117-ab2a-4e03-9569-b931870e2c10",
   "metadata": {},
   "outputs": [],
   "source": [
    "in_file = rt.TFile(\"../rootfiles/output_tree.root\", \"READ\")\n",
    "inputTree = in_file.part_jet\n",
    "\n",
    "nbins = 50\n",
    "ptmin = 20.\n",
    "ptmax = 70."
   ]
  },
  {
   "cell_type": "code",
   "execution_count": 4,
   "id": "d56443a5-cf35-4b74-a847-6ec7cf5c01a2",
   "metadata": {},
   "outputs": [
    {
     "name": "stdout",
     "output_type": "stream",
     "text": [
      "******************************************************************************\n",
      "*Tree    :part_jet  : part_jet                                               *\n",
      "*Entries :   543677 : Total =        15271338 bytes  File  Size =    8339418 *\n",
      "*        :          : Tree compression factor =   1.83                       *\n",
      "******************************************************************************\n",
      "*Br    0 :px        : px/F                                                   *\n",
      "*Entries :   543677 : Total  Size=    2181418 bytes  File Size  =    2043761 *\n",
      "*Baskets :       69 : Basket Size=      32000 bytes  Compression=   1.07     *\n",
      "*............................................................................*\n",
      "*Br    1 :py        : py/F                                                   *\n",
      "*Entries :   543677 : Total  Size=    2181418 bytes  File Size  =    2043976 *\n",
      "*Baskets :       69 : Basket Size=      32000 bytes  Compression=   1.07     *\n",
      "*............................................................................*\n",
      "*Br    2 :pz        : pz/F                                                   *\n",
      "*Entries :   543677 : Total  Size=    2181418 bytes  File Size  =    2074814 *\n",
      "*Baskets :       69 : Basket Size=      32000 bytes  Compression=   1.05     *\n",
      "*............................................................................*\n",
      "*Br    3 :E         : E/F                                                    *\n",
      "*Entries :   543677 : Total  Size=    2181345 bytes  File Size  =    2018067 *\n",
      "*Baskets :       69 : Basket Size=      32000 bytes  Compression=   1.08     *\n",
      "*............................................................................*\n",
      "*Br    4 :type      : type/I                                                 *\n",
      "*Entries :   543677 : Total  Size=    2181564 bytes  File Size  =      45350 *\n",
      "*Baskets :       69 : Basket Size=      32000 bytes  Compression=  48.07     *\n",
      "*............................................................................*\n",
      "*Br    5 :event_no  : event_no/I                                             *\n",
      "*Entries :   543677 : Total  Size=    2181856 bytes  File Size  =      47618 *\n",
      "*Baskets :       69 : Basket Size=      32000 bytes  Compression=  45.78     *\n",
      "*............................................................................*\n",
      "*Br    6 :sigma_tot : sigma_tot/F                                            *\n",
      "*Entries :   543677 : Total  Size=    2181929 bytes  File Size  =      61187 *\n",
      "*Baskets :       69 : Basket Size=      32000 bytes  Compression=  35.63     *\n",
      "*............................................................................*\n"
     ]
    }
   ],
   "source": [
    "inputTree.Print()"
   ]
  },
  {
   "cell_type": "code",
   "execution_count": null,
   "id": "5e0b3a48-d28e-46fe-a334-848e844fbd84",
   "metadata": {},
   "outputs": [],
   "source": [
    "# partonic\n",
    "hist_pt_part = rt.TH1F(\"hist_pt_part\", \" ;p_{T}; sigma\", nbins, ptmin, ptmax)\n",
    "hist_dely_part = rt.TH1F(\"hist_dely_part\", \" ;#Deltay; sigma\", nbins, 0., 10.)\n",
    "\n",
    "# jets\n",
    "hist_pt_jet = rt.TH1F(\"hist_pt_jet\", \" ;p_{T}; sigma\", nbins, ptmin, ptmax)\n",
    "hist_dely_pjet = rt.TH1F(\"hist_dely_jet\", \" ;#Deltay; sigma\", nbins, 0., 10.)\n",
    "\n",
    "# assign branches\n",
    "px = array('f', [-9999.])\n",
    "py = array('f', [-9999.])\n",
    "pz = array('f', [-9999.])\n",
    "E = array('f', [-9999.])\n",
    "sigma_tot = array('f', [-9999.])\n",
    "evt_no = array('i', [-9999])\n",
    "itype = array('i', [-9999])\n",
    "\n",
    "inputTree.SetBranchAddress('px', px)\n",
    "inputTree.SetBranchAddress('py', py)\n",
    "inputTree.SetBranchAddress('pz', pz)\n",
    "inputTree.SetBranchAddress('E', E)\n",
    "inputTree.SetBranchAddress('sigma_tot', sigma_tot)\n",
    "inputTree.SetBranchAddress('event_no', evt_no)\n",
    "inputTree.SetBranchAddress('type', itype)\n",
    "\n",
    "for ievt1 in range(0, TotalN-1):\n",
    "    inputTree.GetEntry(ievt1)\n",
    "    temppx, temppy, temppz, tempE = px, py, pz, E\n",
    "    #for ievt2 in range(ievt1, TotalN-1):\n",
    "    "
   ]
  },
  {
   "cell_type": "code",
   "execution_count": 59,
   "id": "e8312be9-8193-46d3-b949-bca305f83e42",
   "metadata": {},
   "outputs": [
    {
     "data": {
      "text/html": [
       "\n",
       "\n",
       "<div id=\"root_plot_1702293703327\"\n",
       "     style=\"width: 696px; height: 472px\">\n",
       "</div>\n",
       "<script>\n",
       "\n",
       "function display_root_plot_1702293703327(Core) {\n",
       "   let obj = Core.parse({\"_typename\":\"TCanvas\",\"fUniqueID\":0,\"fBits\":3342344,\"fLineColor\":1,\"fLineStyle\":1,\"fLineWidth\":1,\"fFillColor\":0,\"fFillStyle\":1001,\"fLeftMargin\":0.1,\"fRightMargin\":0.1,\"fBottomMargin\":0.1,\"fTopMargin\":0.1,\"fXfile\":2,\"fYfile\":2,\"fAfile\":1,\"fXstat\":0.99,\"fYstat\":0.99,\"fAstat\":2,\"fFrameFillColor\":0,\"fFrameLineColor\":1,\"fFrameFillStyle\":1001,\"fFrameLineStyle\":1,\"fFrameLineWidth\":1,\"fFrameBorderSize\":1,\"fFrameBorderMode\":0,\"fX1\":14.9999996274709,\"fY1\":-1.01179839367929,\"fX2\":65.0000003725291,\"fY2\":2.87474463996605,\"fXtoAbsPixelk\":-208.799941703033,\"fXtoPixelk\":-208.799941703033,\"fXtoPixel\":13.9199997925758,\"fYtoAbsPixelk\":349.122511353864,\"fYtoPixelk\":349.122511353864,\"fYtoPixel\":-121.444686425431,\"fUtoAbsPixelk\":5e-5,\"fUtoPixelk\":5e-5,\"fUtoPixel\":696,\"fVtoAbsPixelk\":472.00005,\"fVtoPixelk\":472,\"fVtoPixel\":-472,\"fAbsPixeltoXk\":14.9999996274709,\"fPixeltoXk\":14.9999996274709,\"fPixeltoX\":0.0718390815302559,\"fAbsPixeltoYk\":2.87474463996605,\"fPixeltoYk\":-1.01179839367929,\"fPixeltoY\":-0.00823420134246894,\"fXlowNDC\":0,\"fYlowNDC\":0,\"fXUpNDC\":1,\"fYUpNDC\":1,\"fWNDC\":1,\"fHNDC\":1,\"fAbsXlowNDC\":0,\"fAbsYlowNDC\":0,\"fAbsWNDC\":1,\"fAbsHNDC\":1,\"fUxmin\":20,\"fUymin\":-0.623144067149157,\"fUxmax\":60,\"fUymax\":2.48609031343591,\"fTheta\":30,\"fPhi\":30,\"fAspectRatio\":0,\"fNumber\":0,\"fTickx\":0,\"fTicky\":0,\"fLogx\":0,\"fLogy\":1,\"fLogz\":0,\"fPadPaint\":0,\"fCrosshair\":0,\"fCrosshairPos\":0,\"fBorderSize\":2,\"fBorderMode\":0,\"fModified\":false,\"fGridx\":false,\"fGridy\":false,\"fAbsCoord\":false,\"fEditable\":true,\"fFixedAspectRatio\":false,\"fPrimitives\":{\"_typename\":\"TList\",\"name\":\"TList\",\"arr\":[{\"_typename\":\"TFrame\",\"fUniqueID\":0,\"fBits\":8,\"fLineColor\":1,\"fLineStyle\":1,\"fLineWidth\":1,\"fFillColor\":0,\"fFillStyle\":1001,\"fX1\":20,\"fY1\":-0.623144067149157,\"fX2\":60,\"fY2\":2.48609031343591,\"fBorderSize\":1,\"fBorderMode\":0},{\"_typename\":\"TH1F\",\"fUniqueID\":0,\"fBits\":8,\"fName\":\"hist_pt_part\",\"fTitle\":\" \",\"fLineColor\":602,\"fLineStyle\":1,\"fLineWidth\":1,\"fFillColor\":0,\"fFillStyle\":1001,\"fMarkerColor\":1,\"fMarkerStyle\":1,\"fMarkerSize\":1,\"fNcells\":102,\"fXaxis\":{\"_typename\":\"TAxis\",\"fUniqueID\":0,\"fBits\":0,\"fName\":\"xaxis\",\"fTitle\":\"p_{T}\",\"fNdivisions\":510,\"fAxisColor\":1,\"fLabelColor\":1,\"fLabelFont\":42,\"fLabelOffset\":0.005,\"fLabelSize\":0.035,\"fTickLength\":0.03,\"fTitleOffset\":1,\"fTitleSize\":0.035,\"fTitleColor\":1,\"fTitleFont\":42,\"fNbins\":100,\"fXmin\":20,\"fXmax\":60,\"fXbins\":[],\"fFirst\":0,\"fLast\":0,\"fBits2\":0,\"fTimeDisplay\":false,\"fTimeFormat\":\"\",\"fLabels\":null,\"fModLabs\":null},\"fYaxis\":{\"_typename\":\"TAxis\",\"fUniqueID\":0,\"fBits\":0,\"fName\":\"yaxis\",\"fTitle\":\" sigma\",\"fNdivisions\":510,\"fAxisColor\":1,\"fLabelColor\":1,\"fLabelFont\":42,\"fLabelOffset\":0.005,\"fLabelSize\":0.035,\"fTickLength\":0.03,\"fTitleOffset\":0,\"fTitleSize\":0.035,\"fTitleColor\":1,\"fTitleFont\":42,\"fNbins\":1,\"fXmin\":0,\"fXmax\":1,\"fXbins\":[],\"fFirst\":0,\"fLast\":0,\"fBits2\":0,\"fTimeDisplay\":false,\"fTimeFormat\":\"\",\"fLabels\":null,\"fModLabs\":null},\"fZaxis\":{\"_typename\":\"TAxis\",\"fUniqueID\":0,\"fBits\":0,\"fName\":\"zaxis\",\"fTitle\":\"\",\"fNdivisions\":510,\"fAxisColor\":1,\"fLabelColor\":1,\"fLabelFont\":42,\"fLabelOffset\":0.005,\"fLabelSize\":0.035,\"fTickLength\":0.03,\"fTitleOffset\":1,\"fTitleSize\":0.035,\"fTitleColor\":1,\"fTitleFont\":42,\"fNbins\":1,\"fXmin\":0,\"fXmax\":1,\"fXbins\":[],\"fFirst\":0,\"fLast\":0,\"fBits2\":0,\"fTimeDisplay\":false,\"fTimeFormat\":\"\",\"fLabels\":null,\"fModLabs\":null},\"fBarOffset\":0,\"fBarWidth\":1000,\"fEntries\":19894,\"fTsumw\":2594.12963062525,\"fTsumw2\":348.159950883693,\"fTsumwx\":83095.2448608645,\"fTsumwx2\":2788462.47633507,\"fMaximum\":-1111,\"fMinimum\":-1111,\"fNormFactor\":0,\"fContour\":[],\"fSumw2\":{\"$arr\":\"Float64\",\"len\":102,\"p\":13,\"v\":[10.328546248999,21.0809350392608,19.8441348494873,16.3205676953497,15.8446625981092,14.2037229795387,14.988949020765,13.7524635065036,11.455631247774,11.0649749992234,10.8096244953955,9.90411002310888,10.4165998325261,9.42695017063003,9.33314945161811,7.97153731149302,7.81206843757135,6.6319040650546,7.59338219852616,6.36405597054852,5.64933603978275,5.8041877662171,5.27030338151173,4.89296404676693,5.35815548120654,3.92802143250485,4.17345564652918,3.66616004119841,3.85527871178501,2.69178693076861,3.75016738249094,2.98566866234149,3.16584806421017,2.84370356507084,2.66483396084942,2.59593311498902,2.1609595488309,2.41532062573235,2.12469011143295,1.83590180491102,2.30461915781569,1.6273552880877,1.87202983351238,1.98106653547241,1.58441844688777,1.5869931221429,1.94473838719142,1.22265596078283,1.26105284559741,1.36980886425655,1.00839780978005,0.898924938890185,1.04843749896906,1.51694068042506,0.934317254366903,1.11676508666162,0.937187797014514,0.681742925513075,1.04268803956629,0.718770039778289,0.791719581667483,0.505441373270048,0.900667447989328,0.719848571740406,0.647490968068284,0.685723389223777,0.900739152393454,0.612781842111584,1.11867489730036,0.468984001756158,0.756809534211322,0.326374423803073,0.57393658156575,0.683780693099903,0.467258940076705,0.360138036738741,0.287485330178047,0.468162701044467,0.396402665183873,0.397174445786287,0.396503922714094,0.25165093836272,0.43267207920479,0.107979740637602,0.360393746305339,0.361050617250075,0.21605034555452,0.324497943122703,10.1582177110726]},\"fOption\":\"\",\"fFunctions\":{\"_typename\":\"TList\",\"name\":\"TList\",\"arr\":[{\"_typename\":\"TPaveStats\",\"fUniqueID\":0,\"fBits\":9,\"fLineColor\":1,\"fLineStyle\":1,\"fLineWidth\":1,\"fFillColor\":0,\"fFillStyle\":1001,\"fX1\":54.000001013279,\"fY1\":2.00027248056145,\"fX2\":64.0000013113022,\"fY2\":2.62211935204534,\"fX1NDC\":0.780000016093254,\"fY1NDC\":0.775000005960464,\"fX2NDC\":0.980000019073486,\"fY2NDC\":0.935000002384186,\"fBorderSize\":1,\"fInit\":1,\"fShadowColor\":1,\"fCornerRadius\":0,\"fOption\":\"brNDC\",\"fName\":\"stats\",\"fTextAngle\":0,\"fTextSize\":0,\"fTextAlign\":12,\"fTextColor\":1,\"fTextFont\":42,\"fLabel\":\"\",\"fLongest\":18,\"fMargin\":0.05,\"fLines\":{\"_typename\":\"TList\",\"name\":\"TList\",\"arr\":[{\"_typename\":\"TLatex\",\"fUniqueID\":0,\"fBits\":0,\"fName\":\"\",\"fTitle\":\"hist_pt_part\",\"fTextAngle\":0,\"fTextSize\":0.0368,\"fTextAlign\":0,\"fTextColor\":0,\"fTextFont\":0,\"fX\":0,\"fY\":0,\"fLineColor\":1,\"fLineStyle\":1,\"fLineWidth\":2,\"fLimitFactorSize\":3,\"fOriginSize\":0.0368000008165836},{\"_typename\":\"TLatex\",\"fUniqueID\":0,\"fBits\":0,\"fName\":\"\",\"fTitle\":\"Entries = 19894  \",\"fTextAngle\":0,\"fTextSize\":0,\"fTextAlign\":0,\"fTextColor\":0,\"fTextFont\":0,\"fX\":0,\"fY\":0,\"fLineColor\":1,\"fLineStyle\":1,\"fLineWidth\":2,\"fLimitFactorSize\":3,\"fOriginSize\":0.04},{\"_typename\":\"TLatex\",\"fUniqueID\":0,\"fBits\":0,\"fName\":\"\",\"fTitle\":\"Mean  =  32.03\",\"fTextAngle\":0,\"fTextSize\":0,\"fTextAlign\":0,\"fTextColor\":0,\"fTextFont\":0,\"fX\":0,\"fY\":0,\"fLineColor\":1,\"fLineStyle\":1,\"fLineWidth\":2,\"fLimitFactorSize\":3,\"fOriginSize\":0.04},{\"_typename\":\"TLatex\",\"fUniqueID\":0,\"fBits\":0,\"fName\":\"\",\"fTitle\":\"Std Dev   =   6.99\",\"fTextAngle\":0,\"fTextSize\":0,\"fTextAlign\":0,\"fTextColor\":0,\"fTextFont\":0,\"fX\":0,\"fY\":0,\"fLineColor\":1,\"fLineStyle\":1,\"fLineWidth\":2,\"fLimitFactorSize\":3,\"fOriginSize\":0.04}],\"opt\":[\"\",\"\",\"\",\"\"]},\"fOptFit\":0,\"fOptStat\":1111,\"fFitFormat\":\"5.4g\",\"fStatFormat\":\"6.4g\",\"fParent\":{\"$ref\":3}}],\"opt\":[\"brNDC\"]},\"fBufferSize\":0,\"fBuffer\":[],\"fBinStatErrOpt\":0,\"fStatOverflows\":2,\"fArray\":{\"$arr\":\"Float32\",\"len\":102,\"p\":13,\"v\":[76.9968,157.0458,147.8458,121.5974,118.08,105.7937,111.6715,102.3651,85.35586,82.42419,80.5324,73.8046,77.59228,70.27628,69.53022,59.35677,58.22715,49.40145,56.60703,47.4611,42.11727,43.2297,39.22778,36.48077,39.95853,29.26257,31.11446,27.3475,28.72322,20.09342,27.92845,22.26241,23.60474,21.19645,19.85918,19.3341,16.10307,17.99026,15.83363,13.68429,17.17516,12.10149,13.95311,14.76199,11.80785,11.81756,14.4924,9.118104,9.395359,10.20319,7.51465,6.70416,7.797691,11.28807,6.970191,8.320993,6.98093,5.089739,7.776593,5.361922,5.902153,3.761954,6.710678,5.365963,4.827991,5.104631,6.710937,4.564483,8.327546,3.491896,5.63789,2.423701,4.285477,5.097404,3.485485,2.683787,2.14469,3.488833,2.953094,2.955963,2.953479,1.876992,3.222433,0.8049086,2.684743,2.687095,1.610153,2.416797,75.68702]}},{\"_typename\":\"TH1F\",\"fUniqueID\":0,\"fBits\":8,\"fName\":\"hist_pt_jet\",\"fTitle\":\" \",\"fLineColor\":602,\"fLineStyle\":1,\"fLineWidth\":1,\"fFillColor\":0,\"fFillStyle\":1001,\"fMarkerColor\":1,\"fMarkerStyle\":1,\"fMarkerSize\":1,\"fNcells\":102,\"fXaxis\":{\"_typename\":\"TAxis\",\"fUniqueID\":0,\"fBits\":0,\"fName\":\"xaxis\",\"fTitle\":\"p_{T}\",\"fNdivisions\":510,\"fAxisColor\":1,\"fLabelColor\":1,\"fLabelFont\":42,\"fLabelOffset\":0.005,\"fLabelSize\":0.035,\"fTickLength\":0.03,\"fTitleOffset\":1,\"fTitleSize\":0.035,\"fTitleColor\":1,\"fTitleFont\":42,\"fNbins\":100,\"fXmin\":20,\"fXmax\":60,\"fXbins\":[],\"fFirst\":0,\"fLast\":0,\"fBits2\":0,\"fTimeDisplay\":false,\"fTimeFormat\":\"\",\"fLabels\":null,\"fModLabs\":null},\"fYaxis\":{\"_typename\":\"TAxis\",\"fUniqueID\":0,\"fBits\":0,\"fName\":\"yaxis\",\"fTitle\":\" sigma\",\"fNdivisions\":510,\"fAxisColor\":1,\"fLabelColor\":1,\"fLabelFont\":42,\"fLabelOffset\":0.005,\"fLabelSize\":0.035,\"fTickLength\":0.03,\"fTitleOffset\":0,\"fTitleSize\":0.035,\"fTitleColor\":1,\"fTitleFont\":42,\"fNbins\":1,\"fXmin\":0,\"fXmax\":1,\"fXbins\":[],\"fFirst\":0,\"fLast\":0,\"fBits2\":0,\"fTimeDisplay\":false,\"fTimeFormat\":\"\",\"fLabels\":null,\"fModLabs\":null},\"fZaxis\":{\"_typename\":\"TAxis\",\"fUniqueID\":0,\"fBits\":0,\"fName\":\"zaxis\",\"fTitle\":\"\",\"fNdivisions\":510,\"fAxisColor\":1,\"fLabelColor\":1,\"fLabelFont\":42,\"fLabelOffset\":0.005,\"fLabelSize\":0.035,\"fTickLength\":0.03,\"fTitleOffset\":1,\"fTitleSize\":0.035,\"fTitleColor\":1,\"fTitleFont\":42,\"fNbins\":1,\"fXmin\":0,\"fXmax\":1,\"fXbins\":[],\"fFirst\":0,\"fLast\":0,\"fBits2\":0,\"fTimeDisplay\":false,\"fTimeFormat\":\"\",\"fLabels\":null,\"fModLabs\":null},\"fBarOffset\":0,\"fBarWidth\":1000,\"fEntries\":523783,\"fTsumw\":1875.55481792241,\"fTsumw2\":251.718375241817,\"fTsumwx\":54887.3168545677,\"fTsumwx2\":1721581.9906697,\"fMaximum\":-1111,\"fMinimum\":-1111,\"fNormFactor\":0,\"fContour\":[],\"fSumw2\":{\"$arr\":\"Float64\",\"len\":102,\"v\":[9177.37925944738,8.2471524392226,8.74499424681196,7.63648513512692,7.62477297055296,7.90452435675065,6.98405774045676,7.05966676567188,7.39066171109764,6.8262334033403,6.57027148503205,7.03194826588194,6.73233970418319,6.93577623491789,6.63116561672597,6.4938111540488,5.89240491245929,5.85551907358648,5.89114208249423,5.3900245980822,5.70195433529484,4.8564705672439,5.04027352969846,4.76846887104412,4.14250051368017,4.68429179245904,4.40024822387632,4.07208897625653,3.53018842191452,3.58311639628302,3.41780688576497,3.40399912140264,2.75408386291162,3.09509035817371,2.57714179600696,3.00756212889024,2.75054769561222,2.40326933433652,2.48619551695378,2.40893075954212,2.63078527074142,2.30420999056381,2.00000014696027,1.47650954432549,1.49652281554257,1.80186889543113,1.65641876632601,1.5117816802321,1.42313537256404,1.85403141456255,1.33169233706201,1.44034708681014,1.30459760544015,1.38805814965295,1.33382940291441,1.3152051044113,1.0809335588125,0.992987128789037,0.846851497879587,1.13376257757605,0.992602728522178,0.633867248820751,0.936196997279259,0.826626522887513,0.738232577393025,0.592600295664369,0.683963846566305,0.54046317092674,0.773403979365141,0.75709000330217,0.540207875406658,0.52242009963285,0.449909433009196,0.41334233932798,0.343525938044811,0.396956124136178,0.486669172652462,0.377984120336875,0.450026873980601,0.377802923009816,0.467809804109086,0.32468920672215,0.198003839815154,0.27052841508562,0.287548666083673,0.198256575006504,0.360670821301034,0.198161138581717,0.288364946000342,0.12612867973109,0.287480760280612,0.14408050719289,0.269610556046747,0.215883706369478,0.198209550348516,0.179999762869721,0.126098831337081,0.0896367943915228,0.0787407294495837,0.234062125164963,0.0898082252757577,4.76697370381531]},\"fOption\":\"\",\"fFunctions\":{\"_typename\":\"TList\",\"name\":\"TList\",\"arr\":[],\"opt\":[]},\"fBufferSize\":0,\"fBuffer\":[],\"fBinStatErrOpt\":0,\"fStatOverflows\":2,\"fArray\":{\"$arr\":\"Float32\",\"len\":102,\"v\":[68012.16,61.45852,65.19205,56.90087,56.79048,58.90678,52.04983,52.5893,55.04589,50.86308,48.96655,52.36638,50.17831,51.67241,49.39778,48.34759,43.94897,43.62312,43.89014,40.14349,42.50891,36.21088,37.56657,35.54742,30.86685,34.89679,32.76591,30.3361,26.3038,26.7027,25.48285,25.36432,20.52723,23.07269,19.1965,22.41112,20.51307,17.87556,18.52268,17.96643,19.59808,17.1737,14.8996,11.00329,11.14463,13.42318,12.34455,11.26893,10.60315,13.81885,9.926852,10.73435,9.689767,10.33821,9.934902,9.798351,8.053298,7.389865,6.308858,8.451318,7.388488,4.709927,6.977227,6.166396,5.501399,4.422168,5.098063,4.02664,5.766816,5.638938,4.025689,3.892311,3.353741,3.083303,2.554732,2.955152,3.624916,2.817376,3.354174,2.816699,3.487545,2.41749,1.475816,2.014426,2.144922,1.47676,2.685774,1.476401,2.147983,0.9396253,2.144681,1.07361,2.010998,1.609531,1.476582,1.341638,0.9395148,0.6694593,0.5597391,1.74436,0.670103,35.54187]}},{\"_typename\":\"TPaveText\",\"fUniqueID\":0,\"fBits\":9,\"fLineColor\":1,\"fLineStyle\":1,\"fLineWidth\":1,\"fFillColor\":0,\"fFillStyle\":0,\"fX1\":39.104885044133,\"fY1\":2.64155207329454,\"fX2\":40.895114955867,\"fY2\":2.8553119433303,\"fX1NDC\":0.482097701149425,\"fY1NDC\":0.940000003948808,\"fX2NDC\":0.517902298850575,\"fY2NDC\":0.995000004768372,\"fBorderSize\":0,\"fInit\":1,\"fShadowColor\":1,\"fCornerRadius\":0,\"fOption\":\"blNDC\",\"fName\":\"title\",\"fTextAngle\":0,\"fTextSize\":0,\"fTextAlign\":22,\"fTextColor\":1,\"fTextFont\":42,\"fLabel\":\"\",\"fLongest\":1,\"fMargin\":0.05,\"fLines\":{\"_typename\":\"TList\",\"name\":\"TList\",\"arr\":[{\"_typename\":\"TLatex\",\"fUniqueID\":0,\"fBits\":0,\"fName\":\"\",\"fTitle\":\" \",\"fTextAngle\":0,\"fTextSize\":0,\"fTextAlign\":0,\"fTextColor\":0,\"fTextFont\":0,\"fX\":0,\"fY\":0,\"fLineColor\":1,\"fLineStyle\":1,\"fLineWidth\":2,\"fLimitFactorSize\":3,\"fOriginSize\":0.0467500016093254}],\"opt\":[\"\"]}},{\"_typename\":\"TStyle\",\"fUniqueID\":0,\"fBits\":0,\"fName\":\"Modern\",\"fTitle\":\"Modern Style\",\"fLineColor\":1,\"fLineStyle\":1,\"fLineWidth\":1,\"fFillColor\":19,\"fFillStyle\":1001,\"fMarkerColor\":1,\"fMarkerStyle\":1,\"fMarkerSize\":1,\"fTextAngle\":0,\"fTextSize\":0.05,\"fTextAlign\":11,\"fTextColor\":1,\"fTextFont\":62,\"fXaxis\":{\"_typename\":\"TAttAxis\",\"fNdivisions\":510,\"fAxisColor\":1,\"fLabelColor\":1,\"fLabelFont\":42,\"fLabelOffset\":0.005,\"fLabelSize\":0.035,\"fTickLength\":0.03,\"fTitleOffset\":1,\"fTitleSize\":0.035,\"fTitleColor\":1,\"fTitleFont\":42},\"fYaxis\":{\"_typename\":\"TAttAxis\",\"fNdivisions\":510,\"fAxisColor\":1,\"fLabelColor\":1,\"fLabelFont\":42,\"fLabelOffset\":0.005,\"fLabelSize\":0.035,\"fTickLength\":0.03,\"fTitleOffset\":0,\"fTitleSize\":0.035,\"fTitleColor\":1,\"fTitleFont\":42},\"fZaxis\":{\"_typename\":\"TAttAxis\",\"fNdivisions\":510,\"fAxisColor\":1,\"fLabelColor\":1,\"fLabelFont\":42,\"fLabelOffset\":0.005,\"fLabelSize\":0.035,\"fTickLength\":0.03,\"fTitleOffset\":1,\"fTitleSize\":0.035,\"fTitleColor\":1,\"fTitleFont\":42},\"fBarWidth\":1,\"fBarOffset\":0,\"fColorModelPS\":0,\"fDrawBorder\":0,\"fOptLogx\":0,\"fOptLogy\":0,\"fOptLogz\":0,\"fOptDate\":0,\"fOptStat\":1111,\"fOptTitle\":1,\"fOptFile\":0,\"fOptFit\":0,\"fShowEventStatus\":0,\"fShowEditor\":0,\"fShowToolBar\":0,\"fNumberContours\":20,\"fAttDate\":{\"_typename\":\"TAttText\",\"fTextAngle\":0,\"fTextSize\":0.025,\"fTextAlign\":11,\"fTextColor\":1,\"fTextFont\":62},\"fDateX\":0.01,\"fDateY\":0.01,\"fEndErrorSize\":2,\"fErrorX\":0.5,\"fFuncColor\":2,\"fFuncStyle\":1,\"fFuncWidth\":2,\"fGridColor\":0,\"fGridStyle\":3,\"fGridWidth\":1,\"fLegendBorderSize\":1,\"fLegendFillColor\":0,\"fLegendFont\":42,\"fLegendTextSize\":0,\"fHatchesLineWidth\":1,\"fHatchesSpacing\":1,\"fFrameFillColor\":0,\"fFrameLineColor\":1,\"fFrameFillStyle\":1001,\"fFrameLineStyle\":1,\"fFrameLineWidth\":1,\"fFrameBorderSize\":1,\"fFrameBorderMode\":0,\"fHistFillColor\":0,\"fHistLineColor\":602,\"fHistFillStyle\":1001,\"fHistLineStyle\":1,\"fHistLineWidth\":1,\"fHistMinimumZero\":false,\"fHistTopMargin\":0.05,\"fCanvasPreferGL\":false,\"fCanvasColor\":0,\"fCanvasBorderSize\":2,\"fCanvasBorderMode\":0,\"fCanvasDefH\":500,\"fCanvasDefW\":700,\"fCanvasDefX\":10,\"fCanvasDefY\":10,\"fPadColor\":0,\"fPadBorderSize\":2,\"fPadBorderMode\":0,\"fPadBottomMargin\":0.1,\"fPadTopMargin\":0.1,\"fPadLeftMargin\":0.1,\"fPadRightMargin\":0.1,\"fPadGridX\":false,\"fPadGridY\":false,\"fPadTickX\":0,\"fPadTickY\":0,\"fPaperSizeX\":20,\"fPaperSizeY\":26,\"fScreenFactor\":1,\"fStatColor\":0,\"fStatTextColor\":1,\"fStatBorderSize\":1,\"fStatFont\":42,\"fStatFontSize\":0,\"fStatStyle\":1001,\"fStatFormat\":\"6.4g\",\"fStatX\":0.98,\"fStatY\":0.935,\"fStatW\":0.2,\"fStatH\":0.16,\"fStripDecimals\":true,\"fTitleAlign\":23,\"fTitleColor\":0,\"fTitleTextColor\":1,\"fTitleBorderSize\":0,\"fTitleFont\":42,\"fTitleFontSize\":0.05,\"fTitleStyle\":0,\"fTitleX\":0.5,\"fTitleY\":0.995,\"fTitleW\":0,\"fTitleH\":0,\"fLegoInnerR\":0.5,\"fLineStyles\":[\"\",\"  \",\" 12 12\",\" 4 8\",\" 12 16 4 16\",\" 20 12 4 12\",\" 20 12 4 12 4 12 4 12\",\" 20 20\",\" 20 12 4 12 4 12\",\" 80 20\",\" 80 40 4 40\",\"  \",\"  \",\"  \",\"  \",\"  \",\"  \",\"  \",\"  \",\"  \",\"  \",\"  \",\"  \",\"  \",\"  \",\"  \",\"  \",\"  \",\"  \",\"  \"],\"fHeaderPS\":\"\",\"fTitlePS\":\"\",\"fFitFormat\":\"5.4g\",\"fPaintTextFormat\":\"g\",\"fLineScalePS\":3,\"fJoinLinePS\":0,\"fCapLinePS\":0,\"fTimeOffset\":788918400,\"fImageScaling\":1}],\"opt\":[\"\",\"\",\"SAME\",\"blNDC\",\"\"]},\"fExecs\":null,\"fName\":\"c1_n9\",\"fTitle\":\"c1_n9\",\"fNumPaletteColor\":0,\"fNextPaletteColor\":0,\"fDISPLAY\":\"$DISPLAY\",\"fDoubleBuffer\":0,\"fRetained\":true,\"fXsizeUser\":0,\"fYsizeUser\":0,\"fXsizeReal\":20,\"fYsizeReal\":14.28571,\"fWindowTopX\":0,\"fWindowTopY\":0,\"fWindowWidth\":0,\"fWindowHeight\":0,\"fCw\":696,\"fCh\":472,\"fCatt\":{\"_typename\":\"TAttCanvas\",\"fXBetween\":2,\"fYBetween\":2,\"fTitleFromTop\":1.2,\"fXdate\":0.2,\"fYdate\":0.3,\"fAdate\":1},\"kMoveOpaque\":true,\"kResizeOpaque\":true,\"fHighLightColor\":2,\"fBatch\":true,\"kShowEventStatus\":false,\"kAutoExec\":true,\"kMenuBar\":true});\n",
       "   Core.settings.HandleKeys = false;\n",
       "   Core.draw(\"root_plot_1702293703327\", obj, \"\");\n",
       "}\n",
       "\n",
       "function script_load_root_plot_1702293703327(src, on_error) {\n",
       "    let script = document.createElement('script');\n",
       "    script.src = src;\n",
       "    script.onload = function() { display_root_plot_1702293703327(JSROOT); };\n",
       "    script.onerror = function() { script.remove(); on_error(); };\n",
       "    document.head.appendChild(script);\n",
       "}\n",
       "\n",
       "if (typeof requirejs !== 'undefined') {\n",
       "\n",
       "    // We are in jupyter notebooks, use require.js which should be configured already\n",
       "    requirejs.config({\n",
       "       paths: { 'JSRootCore' : [ 'build/jsroot', 'https://root.cern/js/7.2.1/build/jsroot', 'https://jsroot.gsi.de/7.2.1/build/jsroot' ] }\n",
       "    })(['JSRootCore'],  function(Core) {\n",
       "       display_root_plot_1702293703327(Core);\n",
       "    });\n",
       "\n",
       "} else if (typeof JSROOT !== 'undefined') {\n",
       "\n",
       "   // JSROOT already loaded, just use it\n",
       "   display_root_plot_1702293703327(JSROOT);\n",
       "\n",
       "} else {\n",
       "\n",
       "    // We are in jupyterlab without require.js, directly loading jsroot\n",
       "    // Jupyterlab might be installed in a different base_url so we need to know it.\n",
       "    try {\n",
       "        var base_url = JSON.parse(document.getElementById('jupyter-config-data').innerHTML).baseUrl;\n",
       "    } catch(_) {\n",
       "        var base_url = '/';\n",
       "    }\n",
       "\n",
       "    // Try loading a local version of requirejs and fallback to cdn if not possible.\n",
       "    script_load_root_plot_1702293703327(base_url + 'static/build/jsroot.js', function(){\n",
       "        console.error('Fail to load JSROOT locally, please check your jupyter_notebook_config.py file');\n",
       "        script_load_root_plot_1702293703327('https://root.cern/js/7.2.1/build/jsroot.js', function(){\n",
       "            document.getElementById(\"root_plot_1702293703327\").innerHTML = \"Failed to load JSROOT\";\n",
       "        });\n",
       "    });\n",
       "}\n",
       "\n",
       "</script>\n"
      ],
      "text/plain": [
       "<IPython.core.display.HTML object>"
      ]
     },
     "metadata": {},
     "output_type": "display_data"
    }
   ],
   "source": [
    "can1 = rt.TCanvas()\n",
    "can1.SetLogy()\n",
    "hist_pt_part.Draw()\n",
    "hist_pt_jet.Draw(\"SAME\")\n",
    "can1.Draw()"
   ]
  },
  {
   "cell_type": "code",
   "execution_count": 34,
   "id": "679a80b3-c4eb-4c0e-a2f6-5061b89ef3c0",
   "metadata": {},
   "outputs": [],
   "source": []
  },
  {
   "cell_type": "code",
   "execution_count": null,
   "id": "6ab7f0dd-7fdd-4bd3-b6e4-457508d14972",
   "metadata": {},
   "outputs": [],
   "source": []
  }
 ],
 "metadata": {
  "kernelspec": {
   "display_name": "Python 3 (ipykernel)",
   "language": "python",
   "name": "python3"
  },
  "language_info": {
   "codemirror_mode": {
    "name": "ipython",
    "version": 3
   },
   "file_extension": ".py",
   "mimetype": "text/x-python",
   "name": "python",
   "nbconvert_exporter": "python",
   "pygments_lexer": "ipython3",
   "version": "3.10.12"
  }
 },
 "nbformat": 4,
 "nbformat_minor": 5
}
